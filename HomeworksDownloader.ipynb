{
 "cells": [
  {
   "cell_type": "markdown",
   "metadata": {},
   "source": [
    "## Homework Grading Tools"
   ]
  },
  {
   "cell_type": "markdown",
   "metadata": {},
   "source": [
    "Tools to help download and grade homeworks."
   ]
  },
  {
   "cell_type": "code",
   "execution_count": 1,
   "metadata": {},
   "outputs": [],
   "source": [
    "import requests\n",
    "import time\n",
    "import os, os.path"
   ]
  },
  {
   "cell_type": "markdown",
   "metadata": {},
   "source": [
    "Authentication tokens. **WARNING: KEEP THESE PRIVATE**!!!"
   ]
  },
  {
   "cell_type": "code",
   "execution_count": 2,
   "metadata": {},
   "outputs": [],
   "source": [
    "host = 'https://growth.dirac.institute'\n",
    "api_url = f'{host}/hub/api'\n",
    "token = 'dde9a43855154edc9f4df60103e8912c'"
   ]
  },
  {
   "cell_type": "markdown",
   "metadata": {},
   "source": [
    "Function definitions:"
   ]
  },
  {
   "cell_type": "code",
   "execution_count": 4,
   "metadata": {
    "scrolled": true
   },
   "outputs": [],
   "source": [
    "def start_server(name):\n",
    "    # Start a user's server\n",
    "    #\n",
    "    # returns the URL to server's API if running, None otherwise\n",
    "    # https://jupyterhub.readthedocs.io/en/stable/_static/rest-api/index.html#operation--users--name--server-post\n",
    "    r = requests.post(api_url + f'/users/{name}/server', headers={'Authorization': 'token %s' % token})\n",
    "    if r.status_code == 400:\n",
    "        # verify the server is running\n",
    "        r = requests.get(api_url + f'/users/{name}', headers={'Authorization': 'token %s' % token})\n",
    "        r.raise_for_status()\n",
    "        ret = r.json()\n",
    "        assert ret['pending'] is None\n",
    "\n",
    "        # return the API url\n",
    "        return f\"{host}/{ret['server']}api\"\n",
    "\n",
    "    r.raise_for_status()\n",
    "\n",
    "def list_all_users():\n",
    "    r = requests.get(api_url + '/users', headers={ 'Authorization': 'token %s' % token })\n",
    "    r.raise_for_status()\n",
    "\n",
    "    return [ x['name'] for x in r.json() ]\n",
    "\n",
    "def start_all_servers():\n",
    "    #\n",
    "    # Start all users' Jupyter servers\n",
    "    #\n",
    "    r = requests.get(api_url + '/users', headers={ 'Authorization': 'token %s' % token })\n",
    "    r.raise_for_status()\n",
    "\n",
    "    servers = {}\n",
    "    waitstart = False\n",
    "    for x in r.json():\n",
    "        name, server, pending = x['name'], x['server'], x['pending']\n",
    "        if server is None:\n",
    "            waitstart = True\n",
    "            if pending is None:\n",
    "                print(f\"❌ {name} ... starting\")\n",
    "                start_server(name)\n",
    "            else:\n",
    "                print(f\"⏳ {name}\")\n",
    "        else:\n",
    "            servers[name] = f\"{host}/{server}api/\"\n",
    "            #print(f\"✅ {name}\")\n",
    "    return waitstart, servers\n",
    "\n",
    "def start_all_servers_loop():\n",
    "    from IPython.display import clear_output\n",
    "    while True:\n",
    "        clear_output(wait=True)\n",
    "        pending, servers = start_all_servers()\n",
    "        if not pending:\n",
    "            break\n",
    "        time.sleep(20)\n",
    "        \n",
    "    clear_output(wait=True)\n",
    "    print(\"Done! Ready to download.\")\n",
    "    return servers\n",
    "\n",
    "def download_file(api, path, tag=None, destdir=None, clobber=False):\n",
    "    #\n",
    "    # Download a file from a user's Jupyter server\n",
    "    #\n",
    "    import base64, os.path\n",
    "\n",
    "    # found this documented only in the source code at\n",
    "    # https://github.com/jupyter/notebook/blob/b8b66332e2023e83d2ee04f83d8814f567e01a4e/notebook/static/services/contents.js#L77\n",
    "    params = {'type': 'file', 'format': 'base64'}\n",
    "    r = requests.get(f\"{api}contents/{path}\", headers={'Authorization': 'token %s' % token },\n",
    "                    params=params)\n",
    "    r.raise_for_status()\n",
    "    ret = r.json()\n",
    "    content = base64.b64decode(ret['content'])\n",
    "\n",
    "    _, outfn = os.path.split(path)\n",
    "    if tag:\n",
    "        base, ext = os.path.splitext(outfn)\n",
    "        outfn = f\"{base}.{tag}{ext}\"\n",
    "\n",
    "    if clobber is False and os.path.exists(outfn):\n",
    "        raise FileExistsError(outfn)\n",
    "\n",
    "    if destdir is not None:\n",
    "        outfn = os.path.join(destdir, outfn)\n",
    "        \n",
    "    print(f\"writing to {outfn}\")\n",
    "    with open(outfn, \"wb\") as fp:\n",
    "        fp.write(content)\n",
    "\n",
    "def download_homeworks(servers, hw='HW1'):\n",
    "    # Download all homeworks for all usersbb\n",
    "    import time\n",
    "    tm = time.strftime('%Y%m%d')\n",
    "\n",
    "    # make subdirectories to save toam\n",
    "    if not os.path.exists(hw):\n",
    "        os.makedirs(hw)\n",
    "    \n",
    "    for name, api in servers.items():\n",
    "        tag = f\"{tm}.{name}\"\n",
    "        path = f'astr-324-s20-homeworks/astr324-s20-{hw}.ipynb'\n",
    "        download_file(api, path, tag=tag, destdir=hw, clobber=True)\n",
    "\n",
    "#servers = start_all_servers()\n",
    "\n",
    "#api = start_server('mjuric')\n",
    "#api\n",
    "\n",
    "# download_file(servers['mjuric'], 'astr-324-s20-homeworks/astr324-s20-HW1.ipynb', tag='mjuric', clobber=True)\n",
    "\n",
    "#servers = { 'mjuric': servers['mjuric']}\n",
    "#download_homeworks(servers, hw='HW1')"
   ]
  },
  {
   "cell_type": "code",
   "execution_count": 5,
   "metadata": {},
   "outputs": [
    {
     "data": {
      "text/plain": [
       "['igorandreoni',\n",
       " 'stevenstetzler',\n",
       " 'mjuric',\n",
       " 'dlakaplan',\n",
       " 'davidkaplantest',\n",
       " 'ddobie',\n",
       " 'mansikasliwal',\n",
       " 'rremigio',\n",
       " 'ms1228',\n",
       " 'vedshenoy',\n",
       " 'knights-templars',\n",
       " 'arvindb95',\n",
       " 'rmquimby',\n",
       " 'dperley',\n",
       " 'tahumada',\n",
       " 'pradipgatkine',\n",
       " 'ejh-ljmu',\n",
       " 'blancmatter',\n",
       " 'charlotteaward',\n",
       " 'spamfour',\n",
       " 'viraj21197',\n",
       " 'yashvi-sharma',\n",
       " 'yaoyuhan',\n",
       " 'cfremling',\n",
       " 'harshkumar13',\n",
       " 'shreyasahasram08',\n",
       " 'dekishalay',\n",
       " 'chris5281',\n",
       " 'asaguescar',\n",
       " 'simeonreusch',\n",
       " 'avondale17',\n",
       " 'hjsreehari',\n",
       " 'anke-astro',\n",
       " 'parulj3795',\n",
       " 'varun2501',\n",
       " 'tkillestein',\n",
       " 'temuller',\n",
       " 'kiranjayasurya',\n",
       " 'ry-c123',\n",
       " 'sandeep-rout',\n",
       " 'swayamtrupta',\n",
       " 'kruthi24',\n",
       " 'gravitas21',\n",
       " 'klukosiute',\n",
       " 'joemichail',\n",
       " 'schaftler',\n",
       " 'derin-wilson',\n",
       " 'wheresmysamwich',\n",
       " 'sps-vic',\n",
       " 'prusinski',\n",
       " 'danieleuts',\n",
       " 'jennyramos',\n",
       " 'krrawlins',\n",
       " 'tkolcu',\n",
       " 'kaustavkdas',\n",
       " 'mattleung10',\n",
       " 'ff-dirirsa',\n",
       " 'kaeleeparker',\n",
       " 'paulomipaul',\n",
       " 'uwastrohendrik',\n",
       " 'patrickaleo',\n",
       " 'larissaamaral',\n",
       " 'elismar2000',\n",
       " 'nanditakhetan',\n",
       " 'snehamudambi',\n",
       " 'juanitaantilen',\n",
       " 'anirbanbairagi',\n",
       " 'rkpradhan',\n",
       " 'maraisjp73',\n",
       " 'lighina7',\n",
       " 'sangeethank94',\n",
       " 'ocirne98',\n",
       " 'sonalika-p',\n",
       " 'akshats14',\n",
       " 'cenko',\n",
       " 'paarmitap',\n",
       " 'danselem',\n",
       " 'simdewet']"
      ]
     },
     "execution_count": 5,
     "metadata": {},
     "output_type": "execute_result"
    }
   ],
   "source": [
    "list_all_users()"
   ]
  },
  {
   "cell_type": "code",
   "execution_count": 16,
   "metadata": {
    "scrolled": true
   },
   "outputs": [
    {
     "name": "stdout",
     "output_type": "stream",
     "text": [
      "Done! Ready to download.\n"
     ]
    }
   ],
   "source": [
    "servers = start_all_servers_loop()"
   ]
  },
  {
   "cell_type": "code",
   "execution_count": 17,
   "metadata": {},
   "outputs": [
    {
     "name": "stdout",
     "output_type": "stream",
     "text": [
      "writing to HW1/astr324-s20-HW1.20200417.landc2.ipynb\n",
      "writing to HW1/astr324-s20-HW1.20200417.mjuric.ipynb\n",
      "writing to HW1/astr324-s20-HW1.20200417.aberres.ipynb\n",
      "writing to HW1/astr324-s20-HW1.20200417.maria8ch.ipynb\n",
      "writing to HW1/astr324-s20-HW1.20200417.liyanz.ipynb\n",
      "writing to HW1/astr324-s20-HW1.20200417.libraj.ipynb\n",
      "writing to HW1/astr324-s20-HW1.20200417.mlindner.ipynb\n",
      "writing to HW1/astr324-s20-HW1.20200417.wmmunhin.ipynb\n",
      "writing to HW1/astr324-s20-HW1.20200417.davidfro.ipynb\n",
      "writing to HW1/astr324-s20-HW1.20200417.danlozan.ipynb\n",
      "writing to HW1/astr324-s20-HW1.20200417.thomak22.ipynb\n",
      "writing to HW1/astr324-s20-HW1.20200417.lexie98.ipynb\n",
      "writing to HW1/astr324-s20-HW1.20200417.msthomps.ipynb\n",
      "writing to HW1/astr324-s20-HW1.20200417.cayenne.ipynb\n",
      "writing to HW1/astr324-s20-HW1.20200417.bergea4.ipynb\n",
      "writing to HW1/astr324-s20-HW1.20200417.tw94.ipynb\n",
      "writing to HW1/astr324-s20-HW1.20200417.ginder.ipynb\n",
      "writing to HW1/astr324-s20-HW1.20200417.nmarosan.ipynb\n",
      "writing to HW1/astr324-s20-HW1.20200417.ahedberg.ipynb\n",
      "writing to HW1/astr324-s20-HW1.20200417.kyerr.ipynb\n",
      "writing to HW1/astr324-s20-HW1.20200417.warna.ipynb\n",
      "writing to HW1/astr324-s20-HW1.20200417.aditic2.ipynb\n",
      "writing to HW1/astr324-s20-HW1.20200417.venterh.ipynb\n",
      "writing to HW1/astr324-s20-HW1.20200417.stevengs.ipynb\n",
      "writing to HW1/astr324-s20-HW1.20200417.shegedus.ipynb\n",
      "writing to HW1/astr324-s20-HW1.20200417.camerr1.ipynb\n",
      "writing to HW1/astr324-s20-HW1.20200417.milow.ipynb\n",
      "writing to HW1/astr324-s20-HW1.20200417.notzu.ipynb\n",
      "writing to HW1/astr324-s20-HW1.20200417.ck1022.ipynb\n",
      "writing to HW1/astr324-s20-HW1.20200417.schaferg.ipynb\n"
     ]
    }
   ],
   "source": [
    "download_homeworks(servers, hw='HW1')"
   ]
  }
 ],
 "metadata": {
  "kernelspec": {
   "display_name": "Python 3",
   "language": "python",
   "name": "python3"
  },
  "language_info": {
   "codemirror_mode": {
    "name": "ipython",
    "version": 3
   },
   "file_extension": ".py",
   "mimetype": "text/x-python",
   "name": "python",
   "nbconvert_exporter": "python",
   "pygments_lexer": "ipython3",
   "version": "3.7.6"
  }
 },
 "nbformat": 4,
 "nbformat_minor": 2
}
